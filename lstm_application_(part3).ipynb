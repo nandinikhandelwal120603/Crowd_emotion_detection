{
  "nbformat": 4,
  "nbformat_minor": 0,
  "metadata": {
    "colab": {
      "provenance": []
    },
    "kernelspec": {
      "name": "python3",
      "display_name": "Python 3"
    },
    "language_info": {
      "name": "python"
    }
  },
  "cells": [
    {
      "cell_type": "code",
      "execution_count": null,
      "metadata": {
        "id": "kBSffSi7HjDu"
      },
      "outputs": [],
      "source": [
        "import pandas as pd\n",
        "import numpy as np\n",
        "import matplotlib.pyplot as plt"
      ]
    },
    {
      "cell_type": "code",
      "source": [
        "from google.colab import drive\n",
        "drive.mount('/content/drive')"
      ],
      "metadata": {
        "colab": {
          "base_uri": "https://localhost:8080/"
        },
        "id": "2JzYCP_MIHMt",
        "outputId": "99a5fa5d-5d19-4a28-a107-51ab94a71c8d"
      },
      "execution_count": null,
      "outputs": [
        {
          "output_type": "stream",
          "name": "stdout",
          "text": [
            "Mounted at /content/drive\n"
          ]
        }
      ]
    },
    {
      "cell_type": "code",
      "source": [
        "df=pd.read_csv('/content/drive/MyDrive/ai project /sound_blocks/preprocessing data.csv')\n",
        "df"
      ],
      "metadata": {
        "colab": {
          "base_uri": "https://localhost:8080/",
          "height": 423
        },
        "id": "d1NRVim4ILV6",
        "outputId": "540f03f2-73bf-4255-b1b3-e02b4ae1c8cc"
      },
      "execution_count": null,
      "outputs": [
        {
          "output_type": "execute_result",
          "data": {
            "text/plain": [
              "      Unnamed: 0        f0        f1        f2        f3        f4  target\n",
              "0              0  1.081172 -7.120204  0.680698  0.753853  0.287723       1\n",
              "1              1  0.959863 -6.558257  0.661967  0.766074  0.287658       1\n",
              "2              2  0.885624 -6.590372  0.676322  0.770636  0.287718       1\n",
              "3              3  0.907701 -6.995509  0.668329  0.753980  0.287320       1\n",
              "4              4  0.844454 -6.508078  0.654847  0.761404  0.287131       1\n",
              "...          ...       ...       ...       ...       ...       ...     ...\n",
              "9510        7335  1.275672 -2.170918  0.492680  0.681460  0.284750       3\n",
              "9511        7336  1.290434 -0.585534  0.520101  0.724953  0.282635       3\n",
              "9512        7337  1.163247 -0.428505  0.533896  0.717561  0.281436       3\n",
              "9513        7338  1.324318 -1.359741  0.522031  0.704803  0.284642       3\n",
              "9514        7339  1.731660 -0.616292  0.550700  0.716718  0.284426       3\n",
              "\n",
              "[9515 rows x 7 columns]"
            ],
            "text/html": [
              "\n",
              "  <div id=\"df-d6048d5e-d105-4680-87cc-b77ba47eb624\">\n",
              "    <div class=\"colab-df-container\">\n",
              "      <div>\n",
              "<style scoped>\n",
              "    .dataframe tbody tr th:only-of-type {\n",
              "        vertical-align: middle;\n",
              "    }\n",
              "\n",
              "    .dataframe tbody tr th {\n",
              "        vertical-align: top;\n",
              "    }\n",
              "\n",
              "    .dataframe thead th {\n",
              "        text-align: right;\n",
              "    }\n",
              "</style>\n",
              "<table border=\"1\" class=\"dataframe\">\n",
              "  <thead>\n",
              "    <tr style=\"text-align: right;\">\n",
              "      <th></th>\n",
              "      <th>Unnamed: 0</th>\n",
              "      <th>f0</th>\n",
              "      <th>f1</th>\n",
              "      <th>f2</th>\n",
              "      <th>f3</th>\n",
              "      <th>f4</th>\n",
              "      <th>target</th>\n",
              "    </tr>\n",
              "  </thead>\n",
              "  <tbody>\n",
              "    <tr>\n",
              "      <th>0</th>\n",
              "      <td>0</td>\n",
              "      <td>1.081172</td>\n",
              "      <td>-7.120204</td>\n",
              "      <td>0.680698</td>\n",
              "      <td>0.753853</td>\n",
              "      <td>0.287723</td>\n",
              "      <td>1</td>\n",
              "    </tr>\n",
              "    <tr>\n",
              "      <th>1</th>\n",
              "      <td>1</td>\n",
              "      <td>0.959863</td>\n",
              "      <td>-6.558257</td>\n",
              "      <td>0.661967</td>\n",
              "      <td>0.766074</td>\n",
              "      <td>0.287658</td>\n",
              "      <td>1</td>\n",
              "    </tr>\n",
              "    <tr>\n",
              "      <th>2</th>\n",
              "      <td>2</td>\n",
              "      <td>0.885624</td>\n",
              "      <td>-6.590372</td>\n",
              "      <td>0.676322</td>\n",
              "      <td>0.770636</td>\n",
              "      <td>0.287718</td>\n",
              "      <td>1</td>\n",
              "    </tr>\n",
              "    <tr>\n",
              "      <th>3</th>\n",
              "      <td>3</td>\n",
              "      <td>0.907701</td>\n",
              "      <td>-6.995509</td>\n",
              "      <td>0.668329</td>\n",
              "      <td>0.753980</td>\n",
              "      <td>0.287320</td>\n",
              "      <td>1</td>\n",
              "    </tr>\n",
              "    <tr>\n",
              "      <th>4</th>\n",
              "      <td>4</td>\n",
              "      <td>0.844454</td>\n",
              "      <td>-6.508078</td>\n",
              "      <td>0.654847</td>\n",
              "      <td>0.761404</td>\n",
              "      <td>0.287131</td>\n",
              "      <td>1</td>\n",
              "    </tr>\n",
              "    <tr>\n",
              "      <th>...</th>\n",
              "      <td>...</td>\n",
              "      <td>...</td>\n",
              "      <td>...</td>\n",
              "      <td>...</td>\n",
              "      <td>...</td>\n",
              "      <td>...</td>\n",
              "      <td>...</td>\n",
              "    </tr>\n",
              "    <tr>\n",
              "      <th>9510</th>\n",
              "      <td>7335</td>\n",
              "      <td>1.275672</td>\n",
              "      <td>-2.170918</td>\n",
              "      <td>0.492680</td>\n",
              "      <td>0.681460</td>\n",
              "      <td>0.284750</td>\n",
              "      <td>3</td>\n",
              "    </tr>\n",
              "    <tr>\n",
              "      <th>9511</th>\n",
              "      <td>7336</td>\n",
              "      <td>1.290434</td>\n",
              "      <td>-0.585534</td>\n",
              "      <td>0.520101</td>\n",
              "      <td>0.724953</td>\n",
              "      <td>0.282635</td>\n",
              "      <td>3</td>\n",
              "    </tr>\n",
              "    <tr>\n",
              "      <th>9512</th>\n",
              "      <td>7337</td>\n",
              "      <td>1.163247</td>\n",
              "      <td>-0.428505</td>\n",
              "      <td>0.533896</td>\n",
              "      <td>0.717561</td>\n",
              "      <td>0.281436</td>\n",
              "      <td>3</td>\n",
              "    </tr>\n",
              "    <tr>\n",
              "      <th>9513</th>\n",
              "      <td>7338</td>\n",
              "      <td>1.324318</td>\n",
              "      <td>-1.359741</td>\n",
              "      <td>0.522031</td>\n",
              "      <td>0.704803</td>\n",
              "      <td>0.284642</td>\n",
              "      <td>3</td>\n",
              "    </tr>\n",
              "    <tr>\n",
              "      <th>9514</th>\n",
              "      <td>7339</td>\n",
              "      <td>1.731660</td>\n",
              "      <td>-0.616292</td>\n",
              "      <td>0.550700</td>\n",
              "      <td>0.716718</td>\n",
              "      <td>0.284426</td>\n",
              "      <td>3</td>\n",
              "    </tr>\n",
              "  </tbody>\n",
              "</table>\n",
              "<p>9515 rows × 7 columns</p>\n",
              "</div>\n",
              "      <button class=\"colab-df-convert\" onclick=\"convertToInteractive('df-d6048d5e-d105-4680-87cc-b77ba47eb624')\"\n",
              "              title=\"Convert this dataframe to an interactive table.\"\n",
              "              style=\"display:none;\">\n",
              "        \n",
              "  <svg xmlns=\"http://www.w3.org/2000/svg\" height=\"24px\"viewBox=\"0 0 24 24\"\n",
              "       width=\"24px\">\n",
              "    <path d=\"M0 0h24v24H0V0z\" fill=\"none\"/>\n",
              "    <path d=\"M18.56 5.44l.94 2.06.94-2.06 2.06-.94-2.06-.94-.94-2.06-.94 2.06-2.06.94zm-11 1L8.5 8.5l.94-2.06 2.06-.94-2.06-.94L8.5 2.5l-.94 2.06-2.06.94zm10 10l.94 2.06.94-2.06 2.06-.94-2.06-.94-.94-2.06-.94 2.06-2.06.94z\"/><path d=\"M17.41 7.96l-1.37-1.37c-.4-.4-.92-.59-1.43-.59-.52 0-1.04.2-1.43.59L10.3 9.45l-7.72 7.72c-.78.78-.78 2.05 0 2.83L4 21.41c.39.39.9.59 1.41.59.51 0 1.02-.2 1.41-.59l7.78-7.78 2.81-2.81c.8-.78.8-2.07 0-2.86zM5.41 20L4 18.59l7.72-7.72 1.47 1.35L5.41 20z\"/>\n",
              "  </svg>\n",
              "      </button>\n",
              "      \n",
              "  <style>\n",
              "    .colab-df-container {\n",
              "      display:flex;\n",
              "      flex-wrap:wrap;\n",
              "      gap: 12px;\n",
              "    }\n",
              "\n",
              "    .colab-df-convert {\n",
              "      background-color: #E8F0FE;\n",
              "      border: none;\n",
              "      border-radius: 50%;\n",
              "      cursor: pointer;\n",
              "      display: none;\n",
              "      fill: #1967D2;\n",
              "      height: 32px;\n",
              "      padding: 0 0 0 0;\n",
              "      width: 32px;\n",
              "    }\n",
              "\n",
              "    .colab-df-convert:hover {\n",
              "      background-color: #E2EBFA;\n",
              "      box-shadow: 0px 1px 2px rgba(60, 64, 67, 0.3), 0px 1px 3px 1px rgba(60, 64, 67, 0.15);\n",
              "      fill: #174EA6;\n",
              "    }\n",
              "\n",
              "    [theme=dark] .colab-df-convert {\n",
              "      background-color: #3B4455;\n",
              "      fill: #D2E3FC;\n",
              "    }\n",
              "\n",
              "    [theme=dark] .colab-df-convert:hover {\n",
              "      background-color: #434B5C;\n",
              "      box-shadow: 0px 1px 3px 1px rgba(0, 0, 0, 0.15);\n",
              "      filter: drop-shadow(0px 1px 2px rgba(0, 0, 0, 0.3));\n",
              "      fill: #FFFFFF;\n",
              "    }\n",
              "  </style>\n",
              "\n",
              "      <script>\n",
              "        const buttonEl =\n",
              "          document.querySelector('#df-d6048d5e-d105-4680-87cc-b77ba47eb624 button.colab-df-convert');\n",
              "        buttonEl.style.display =\n",
              "          google.colab.kernel.accessAllowed ? 'block' : 'none';\n",
              "\n",
              "        async function convertToInteractive(key) {\n",
              "          const element = document.querySelector('#df-d6048d5e-d105-4680-87cc-b77ba47eb624');\n",
              "          const dataTable =\n",
              "            await google.colab.kernel.invokeFunction('convertToInteractive',\n",
              "                                                     [key], {});\n",
              "          if (!dataTable) return;\n",
              "\n",
              "          const docLinkHtml = 'Like what you see? Visit the ' +\n",
              "            '<a target=\"_blank\" href=https://colab.research.google.com/notebooks/data_table.ipynb>data table notebook</a>'\n",
              "            + ' to learn more about interactive tables.';\n",
              "          element.innerHTML = '';\n",
              "          dataTable['output_type'] = 'display_data';\n",
              "          await google.colab.output.renderOutput(dataTable, element);\n",
              "          const docLink = document.createElement('div');\n",
              "          docLink.innerHTML = docLinkHtml;\n",
              "          element.appendChild(docLink);\n",
              "        }\n",
              "      </script>\n",
              "    </div>\n",
              "  </div>\n",
              "  "
            ]
          },
          "metadata": {},
          "execution_count": 3
        }
      ]
    },
    {
      "cell_type": "code",
      "source": [
        "df.drop(columns=df.columns[0],axis=1,inplace=True);\n",
        "df"
      ],
      "metadata": {
        "colab": {
          "base_uri": "https://localhost:8080/",
          "height": 423
        },
        "id": "62Zb_oiwIQ1K",
        "outputId": "7d25ba07-8c0e-4c7b-ad8b-8ce626e38341"
      },
      "execution_count": null,
      "outputs": [
        {
          "output_type": "execute_result",
          "data": {
            "text/plain": [
              "            f0        f1        f2        f3        f4  target\n",
              "0     1.081172 -7.120204  0.680698  0.753853  0.287723       1\n",
              "1     0.959863 -6.558257  0.661967  0.766074  0.287658       1\n",
              "2     0.885624 -6.590372  0.676322  0.770636  0.287718       1\n",
              "3     0.907701 -6.995509  0.668329  0.753980  0.287320       1\n",
              "4     0.844454 -6.508078  0.654847  0.761404  0.287131       1\n",
              "...        ...       ...       ...       ...       ...     ...\n",
              "9510  1.275672 -2.170918  0.492680  0.681460  0.284750       3\n",
              "9511  1.290434 -0.585534  0.520101  0.724953  0.282635       3\n",
              "9512  1.163247 -0.428505  0.533896  0.717561  0.281436       3\n",
              "9513  1.324318 -1.359741  0.522031  0.704803  0.284642       3\n",
              "9514  1.731660 -0.616292  0.550700  0.716718  0.284426       3\n",
              "\n",
              "[9515 rows x 6 columns]"
            ],
            "text/html": [
              "\n",
              "  <div id=\"df-ac847a62-7d39-4514-bffa-880ce37db4ae\">\n",
              "    <div class=\"colab-df-container\">\n",
              "      <div>\n",
              "<style scoped>\n",
              "    .dataframe tbody tr th:only-of-type {\n",
              "        vertical-align: middle;\n",
              "    }\n",
              "\n",
              "    .dataframe tbody tr th {\n",
              "        vertical-align: top;\n",
              "    }\n",
              "\n",
              "    .dataframe thead th {\n",
              "        text-align: right;\n",
              "    }\n",
              "</style>\n",
              "<table border=\"1\" class=\"dataframe\">\n",
              "  <thead>\n",
              "    <tr style=\"text-align: right;\">\n",
              "      <th></th>\n",
              "      <th>f0</th>\n",
              "      <th>f1</th>\n",
              "      <th>f2</th>\n",
              "      <th>f3</th>\n",
              "      <th>f4</th>\n",
              "      <th>target</th>\n",
              "    </tr>\n",
              "  </thead>\n",
              "  <tbody>\n",
              "    <tr>\n",
              "      <th>0</th>\n",
              "      <td>1.081172</td>\n",
              "      <td>-7.120204</td>\n",
              "      <td>0.680698</td>\n",
              "      <td>0.753853</td>\n",
              "      <td>0.287723</td>\n",
              "      <td>1</td>\n",
              "    </tr>\n",
              "    <tr>\n",
              "      <th>1</th>\n",
              "      <td>0.959863</td>\n",
              "      <td>-6.558257</td>\n",
              "      <td>0.661967</td>\n",
              "      <td>0.766074</td>\n",
              "      <td>0.287658</td>\n",
              "      <td>1</td>\n",
              "    </tr>\n",
              "    <tr>\n",
              "      <th>2</th>\n",
              "      <td>0.885624</td>\n",
              "      <td>-6.590372</td>\n",
              "      <td>0.676322</td>\n",
              "      <td>0.770636</td>\n",
              "      <td>0.287718</td>\n",
              "      <td>1</td>\n",
              "    </tr>\n",
              "    <tr>\n",
              "      <th>3</th>\n",
              "      <td>0.907701</td>\n",
              "      <td>-6.995509</td>\n",
              "      <td>0.668329</td>\n",
              "      <td>0.753980</td>\n",
              "      <td>0.287320</td>\n",
              "      <td>1</td>\n",
              "    </tr>\n",
              "    <tr>\n",
              "      <th>4</th>\n",
              "      <td>0.844454</td>\n",
              "      <td>-6.508078</td>\n",
              "      <td>0.654847</td>\n",
              "      <td>0.761404</td>\n",
              "      <td>0.287131</td>\n",
              "      <td>1</td>\n",
              "    </tr>\n",
              "    <tr>\n",
              "      <th>...</th>\n",
              "      <td>...</td>\n",
              "      <td>...</td>\n",
              "      <td>...</td>\n",
              "      <td>...</td>\n",
              "      <td>...</td>\n",
              "      <td>...</td>\n",
              "    </tr>\n",
              "    <tr>\n",
              "      <th>9510</th>\n",
              "      <td>1.275672</td>\n",
              "      <td>-2.170918</td>\n",
              "      <td>0.492680</td>\n",
              "      <td>0.681460</td>\n",
              "      <td>0.284750</td>\n",
              "      <td>3</td>\n",
              "    </tr>\n",
              "    <tr>\n",
              "      <th>9511</th>\n",
              "      <td>1.290434</td>\n",
              "      <td>-0.585534</td>\n",
              "      <td>0.520101</td>\n",
              "      <td>0.724953</td>\n",
              "      <td>0.282635</td>\n",
              "      <td>3</td>\n",
              "    </tr>\n",
              "    <tr>\n",
              "      <th>9512</th>\n",
              "      <td>1.163247</td>\n",
              "      <td>-0.428505</td>\n",
              "      <td>0.533896</td>\n",
              "      <td>0.717561</td>\n",
              "      <td>0.281436</td>\n",
              "      <td>3</td>\n",
              "    </tr>\n",
              "    <tr>\n",
              "      <th>9513</th>\n",
              "      <td>1.324318</td>\n",
              "      <td>-1.359741</td>\n",
              "      <td>0.522031</td>\n",
              "      <td>0.704803</td>\n",
              "      <td>0.284642</td>\n",
              "      <td>3</td>\n",
              "    </tr>\n",
              "    <tr>\n",
              "      <th>9514</th>\n",
              "      <td>1.731660</td>\n",
              "      <td>-0.616292</td>\n",
              "      <td>0.550700</td>\n",
              "      <td>0.716718</td>\n",
              "      <td>0.284426</td>\n",
              "      <td>3</td>\n",
              "    </tr>\n",
              "  </tbody>\n",
              "</table>\n",
              "<p>9515 rows × 6 columns</p>\n",
              "</div>\n",
              "      <button class=\"colab-df-convert\" onclick=\"convertToInteractive('df-ac847a62-7d39-4514-bffa-880ce37db4ae')\"\n",
              "              title=\"Convert this dataframe to an interactive table.\"\n",
              "              style=\"display:none;\">\n",
              "        \n",
              "  <svg xmlns=\"http://www.w3.org/2000/svg\" height=\"24px\"viewBox=\"0 0 24 24\"\n",
              "       width=\"24px\">\n",
              "    <path d=\"M0 0h24v24H0V0z\" fill=\"none\"/>\n",
              "    <path d=\"M18.56 5.44l.94 2.06.94-2.06 2.06-.94-2.06-.94-.94-2.06-.94 2.06-2.06.94zm-11 1L8.5 8.5l.94-2.06 2.06-.94-2.06-.94L8.5 2.5l-.94 2.06-2.06.94zm10 10l.94 2.06.94-2.06 2.06-.94-2.06-.94-.94-2.06-.94 2.06-2.06.94z\"/><path d=\"M17.41 7.96l-1.37-1.37c-.4-.4-.92-.59-1.43-.59-.52 0-1.04.2-1.43.59L10.3 9.45l-7.72 7.72c-.78.78-.78 2.05 0 2.83L4 21.41c.39.39.9.59 1.41.59.51 0 1.02-.2 1.41-.59l7.78-7.78 2.81-2.81c.8-.78.8-2.07 0-2.86zM5.41 20L4 18.59l7.72-7.72 1.47 1.35L5.41 20z\"/>\n",
              "  </svg>\n",
              "      </button>\n",
              "      \n",
              "  <style>\n",
              "    .colab-df-container {\n",
              "      display:flex;\n",
              "      flex-wrap:wrap;\n",
              "      gap: 12px;\n",
              "    }\n",
              "\n",
              "    .colab-df-convert {\n",
              "      background-color: #E8F0FE;\n",
              "      border: none;\n",
              "      border-radius: 50%;\n",
              "      cursor: pointer;\n",
              "      display: none;\n",
              "      fill: #1967D2;\n",
              "      height: 32px;\n",
              "      padding: 0 0 0 0;\n",
              "      width: 32px;\n",
              "    }\n",
              "\n",
              "    .colab-df-convert:hover {\n",
              "      background-color: #E2EBFA;\n",
              "      box-shadow: 0px 1px 2px rgba(60, 64, 67, 0.3), 0px 1px 3px 1px rgba(60, 64, 67, 0.15);\n",
              "      fill: #174EA6;\n",
              "    }\n",
              "\n",
              "    [theme=dark] .colab-df-convert {\n",
              "      background-color: #3B4455;\n",
              "      fill: #D2E3FC;\n",
              "    }\n",
              "\n",
              "    [theme=dark] .colab-df-convert:hover {\n",
              "      background-color: #434B5C;\n",
              "      box-shadow: 0px 1px 3px 1px rgba(0, 0, 0, 0.15);\n",
              "      filter: drop-shadow(0px 1px 2px rgba(0, 0, 0, 0.3));\n",
              "      fill: #FFFFFF;\n",
              "    }\n",
              "  </style>\n",
              "\n",
              "      <script>\n",
              "        const buttonEl =\n",
              "          document.querySelector('#df-ac847a62-7d39-4514-bffa-880ce37db4ae button.colab-df-convert');\n",
              "        buttonEl.style.display =\n",
              "          google.colab.kernel.accessAllowed ? 'block' : 'none';\n",
              "\n",
              "        async function convertToInteractive(key) {\n",
              "          const element = document.querySelector('#df-ac847a62-7d39-4514-bffa-880ce37db4ae');\n",
              "          const dataTable =\n",
              "            await google.colab.kernel.invokeFunction('convertToInteractive',\n",
              "                                                     [key], {});\n",
              "          if (!dataTable) return;\n",
              "\n",
              "          const docLinkHtml = 'Like what you see? Visit the ' +\n",
              "            '<a target=\"_blank\" href=https://colab.research.google.com/notebooks/data_table.ipynb>data table notebook</a>'\n",
              "            + ' to learn more about interactive tables.';\n",
              "          element.innerHTML = '';\n",
              "          dataTable['output_type'] = 'display_data';\n",
              "          await google.colab.output.renderOutput(dataTable, element);\n",
              "          const docLink = document.createElement('div');\n",
              "          docLink.innerHTML = docLinkHtml;\n",
              "          element.appendChild(docLink);\n",
              "        }\n",
              "      </script>\n",
              "    </div>\n",
              "  </div>\n",
              "  "
            ]
          },
          "metadata": {},
          "execution_count": 4
        }
      ]
    },
    {
      "cell_type": "code",
      "source": [
        "#type(df)\n",
        "df.shape\n",
        "X=df[['f0','f1','f2','f3','f4']]\n",
        "y=df['target']"
      ],
      "metadata": {
        "id": "dHXcHQXEIUfE"
      },
      "execution_count": null,
      "outputs": []
    },
    {
      "cell_type": "code",
      "source": [
        "X = X.to_numpy()"
      ],
      "metadata": {
        "id": "BURucX5hIZIf"
      },
      "execution_count": null,
      "outputs": []
    },
    {
      "cell_type": "code",
      "source": [
        "type(X)"
      ],
      "metadata": {
        "colab": {
          "base_uri": "https://localhost:8080/"
        },
        "id": "ri2UdFnWIbKk",
        "outputId": "8d6892b8-99ee-4c4e-aa94-3056f9680ebd"
      },
      "execution_count": null,
      "outputs": [
        {
          "output_type": "execute_result",
          "data": {
            "text/plain": [
              "numpy.ndarray"
            ]
          },
          "metadata": {},
          "execution_count": 7
        }
      ]
    },
    {
      "cell_type": "code",
      "source": [
        "X.reshape(-1,5)"
      ],
      "metadata": {
        "colab": {
          "base_uri": "https://localhost:8080/"
        },
        "id": "CwD1ywoeIb_S",
        "outputId": "51c87ee1-b677-4183-e906-843336d43399"
      },
      "execution_count": null,
      "outputs": [
        {
          "output_type": "execute_result",
          "data": {
            "text/plain": [
              "array([[ 1.08117235, -7.12020445,  0.6806978 ,  0.75385284,  0.28772255],\n",
              "       [ 0.95986348, -6.5582571 ,  0.66196656,  0.766074  ,  0.28765817],\n",
              "       [ 0.88562375, -6.59037209,  0.6763221 ,  0.77063632,  0.28771833],\n",
              "       ...,\n",
              "       [ 1.16324663, -0.42850453,  0.53389639,  0.71756053,  0.28143615],\n",
              "       [ 1.32431757, -1.35974145,  0.52203089,  0.70480287,  0.28464224],\n",
              "       [ 1.73166049, -0.61629182,  0.55070013,  0.71671802,  0.28442608]])"
            ]
          },
          "metadata": {},
          "execution_count": 8
        }
      ]
    },
    {
      "cell_type": "code",
      "source": [
        "X.shape"
      ],
      "metadata": {
        "id": "-D-GBrnIIgI-",
        "colab": {
          "base_uri": "https://localhost:8080/"
        },
        "outputId": "b7534fe1-2c1a-429f-b6a5-90573d4b7520"
      },
      "execution_count": null,
      "outputs": [
        {
          "output_type": "execute_result",
          "data": {
            "text/plain": [
              "(9515, 5)"
            ]
          },
          "metadata": {},
          "execution_count": 9
        }
      ]
    },
    {
      "cell_type": "code",
      "source": [
        "X=X.reshape((X.shape[0], X.shape[1], 1))"
      ],
      "metadata": {
        "id": "STM000wHIi5h"
      },
      "execution_count": null,
      "outputs": []
    },
    {
      "cell_type": "code",
      "source": [
        "X.shape"
      ],
      "metadata": {
        "colab": {
          "base_uri": "https://localhost:8080/"
        },
        "id": "ydn44Q7PIj7u",
        "outputId": "73a1d877-ab19-4b11-dcd5-0b82bc24e045"
      },
      "execution_count": null,
      "outputs": [
        {
          "output_type": "execute_result",
          "data": {
            "text/plain": [
              "(9515, 5, 1)"
            ]
          },
          "metadata": {},
          "execution_count": 11
        }
      ]
    },
    {
      "cell_type": "code",
      "source": [
        "from sklearn.preprocessing import OneHotEncoder\n",
        "encoder = OneHotEncoder(sparse=False)\n",
        "\n",
        "# fit encoder to target variable and transform it to one-hot encoding\n",
        "y_encoded = encoder.fit_transform(y.values.reshape(-1, 1))\n",
        "\n",
        "print(y_encoded)"
      ],
      "metadata": {
        "colab": {
          "base_uri": "https://localhost:8080/"
        },
        "id": "2iTuBX2kIszw",
        "outputId": "1226ff9f-f1c9-48fa-f35d-e04b448b13ff"
      },
      "execution_count": null,
      "outputs": [
        {
          "output_type": "stream",
          "name": "stdout",
          "text": [
            "[[1. 0. 0.]\n",
            " [1. 0. 0.]\n",
            " [1. 0. 0.]\n",
            " ...\n",
            " [0. 0. 1.]\n",
            " [0. 0. 1.]\n",
            " [0. 0. 1.]]\n"
          ]
        },
        {
          "output_type": "stream",
          "name": "stderr",
          "text": [
            "/usr/local/lib/python3.9/dist-packages/sklearn/preprocessing/_encoders.py:868: FutureWarning: `sparse` was renamed to `sparse_output` in version 1.2 and will be removed in 1.4. `sparse_output` is ignored unless you leave `sparse` to its default value.\n",
            "  warnings.warn(\n"
          ]
        }
      ]
    },
    {
      "cell_type": "code",
      "source": [
        "from sklearn.model_selection import train_test_split\n",
        "\n",
        "X_train, X_test, y_train, y_test = train_test_split(X, y_encoded, test_size=0.20, random_state=42)"
      ],
      "metadata": {
        "id": "-2uUf2XLIvXR"
      },
      "execution_count": null,
      "outputs": []
    },
    {
      "cell_type": "code",
      "source": [
        "from tensorflow.keras.preprocessing import sequence\n",
        "from tensorflow.keras.models import Sequential\n",
        "from tensorflow.keras.layers import Dense, Embedding\n",
        "from tensorflow.keras.layers import LSTM , Dropout\n",
        "\n",
        "embedding_vector_features=5\n",
        "\n",
        "model=Sequential()\n",
        "\n",
        "#model.add(Embedding(voc_size,embedding_vector_features,input_length=sent_length))\n",
        "\n",
        "model.add(LSTM(64,input_shape=(5,1),activation='relu',return_sequences=True))\n",
        "\n",
        "model.add(Dropout(0.4))\n",
        "\n",
        "model.add(LSTM(64,activation='relu'))\n",
        "\n",
        "model.add(Dropout(0.4))\n",
        "\n",
        "# for units in [128,128,64,32]:\n",
        "\n",
        "# model.add(Dense(units,activation='relu'))\n",
        "\n",
        "# model.add(Dropout(0.2))\n",
        "#model.add(Dense(32,activation='relu'))\n",
        "\n",
        "model.add(Dropout(0.2))\n",
        "\n",
        "model.add(Dense(3,activation='softmax'))\n",
        "\n",
        "model.compile(loss='categorical_crossentropy',optimizer='adam',metrics=['accuracy'])\n",
        "\n",
        "print(model.summary())\n"
      ],
      "metadata": {
        "colab": {
          "base_uri": "https://localhost:8080/"
        },
        "id": "1vlFYSCiI9Kq",
        "outputId": "6372978b-5f3b-4b88-aa7f-31e555f2263a"
      },
      "execution_count": null,
      "outputs": [
        {
          "output_type": "stream",
          "name": "stdout",
          "text": [
            "Model: \"sequential\"\n",
            "_________________________________________________________________\n",
            " Layer (type)                Output Shape              Param #   \n",
            "=================================================================\n",
            " lstm (LSTM)                 (None, 5, 64)             16896     \n",
            "                                                                 \n",
            " dropout (Dropout)           (None, 5, 64)             0         \n",
            "                                                                 \n",
            " lstm_1 (LSTM)               (None, 64)                33024     \n",
            "                                                                 \n",
            " dropout_1 (Dropout)         (None, 64)                0         \n",
            "                                                                 \n",
            " dropout_2 (Dropout)         (None, 64)                0         \n",
            "                                                                 \n",
            " dense (Dense)               (None, 3)                 195       \n",
            "                                                                 \n",
            "=================================================================\n",
            "Total params: 50,115\n",
            "Trainable params: 50,115\n",
            "Non-trainable params: 0\n",
            "_________________________________________________________________\n",
            "None\n"
          ]
        }
      ]
    },
    {
      "cell_type": "code",
      "source": [
        "model.summary()"
      ],
      "metadata": {
        "id": "4Tx809GiI2iY",
        "colab": {
          "base_uri": "https://localhost:8080/"
        },
        "outputId": "e8c29354-808e-4129-ec97-491422778ebd"
      },
      "execution_count": null,
      "outputs": [
        {
          "output_type": "stream",
          "name": "stdout",
          "text": [
            "Model: \"sequential\"\n",
            "_________________________________________________________________\n",
            " Layer (type)                Output Shape              Param #   \n",
            "=================================================================\n",
            " lstm (LSTM)                 (None, 5, 64)             16896     \n",
            "                                                                 \n",
            " dropout (Dropout)           (None, 5, 64)             0         \n",
            "                                                                 \n",
            " lstm_1 (LSTM)               (None, 64)                33024     \n",
            "                                                                 \n",
            " dropout_1 (Dropout)         (None, 64)                0         \n",
            "                                                                 \n",
            " dropout_2 (Dropout)         (None, 64)                0         \n",
            "                                                                 \n",
            " dense (Dense)               (None, 3)                 195       \n",
            "                                                                 \n",
            "=================================================================\n",
            "Total params: 50,115\n",
            "Trainable params: 50,115\n",
            "Non-trainable params: 0\n",
            "_________________________________________________________________\n"
          ]
        }
      ]
    },
    {
      "cell_type": "code",
      "source": [
        "history=model.fit(X_train, y_train, epochs=50, batch_size=32)\n",
        "# Final evaluation of the model\n",
        "scores = model.evaluate(X_test, y_test, verbose=0)\n",
        "print(\"Accuracy: %.2f%%\" % (scores[1]*100))"
      ],
      "metadata": {
        "colab": {
          "base_uri": "https://localhost:8080/"
        },
        "id": "ea6d48diLjdq",
        "outputId": "c39e795f-d0e9-4547-ee0c-a73e5a481f79"
      },
      "execution_count": null,
      "outputs": [
        {
          "output_type": "stream",
          "name": "stdout",
          "text": [
            "Epoch 1/50\n",
            "238/238 [==============================] - 7s 30ms/step - loss: 0.2417 - accuracy: 0.9171\n",
            "Epoch 2/50\n",
            "238/238 [==============================] - 3s 11ms/step - loss: 0.2201 - accuracy: 0.9268\n",
            "Epoch 3/50\n",
            "238/238 [==============================] - 3s 11ms/step - loss: 0.2237 - accuracy: 0.9330\n",
            "Epoch 4/50\n",
            "238/238 [==============================] - 3s 11ms/step - loss: 0.2133 - accuracy: 0.9297\n",
            "Epoch 5/50\n",
            "238/238 [==============================] - 3s 11ms/step - loss: 0.2056 - accuracy: 0.9325\n",
            "Epoch 6/50\n",
            "238/238 [==============================] - 4s 17ms/step - loss: 0.2015 - accuracy: 0.9351\n",
            "Epoch 7/50\n",
            "238/238 [==============================] - 3s 11ms/step - loss: 0.1998 - accuracy: 0.9364\n",
            "Epoch 8/50\n",
            "238/238 [==============================] - 3s 11ms/step - loss: 0.1847 - accuracy: 0.9443\n",
            "Epoch 9/50\n",
            "238/238 [==============================] - 3s 11ms/step - loss: 0.1869 - accuracy: 0.9423\n",
            "Epoch 10/50\n",
            "238/238 [==============================] - 2s 10ms/step - loss: 0.1886 - accuracy: 0.9422\n",
            "Epoch 11/50\n",
            "238/238 [==============================] - 4s 17ms/step - loss: 0.1845 - accuracy: 0.9426\n",
            "Epoch 12/50\n",
            "238/238 [==============================] - 3s 12ms/step - loss: 0.1835 - accuracy: 0.9434\n",
            "Epoch 13/50\n",
            "238/238 [==============================] - 3s 11ms/step - loss: 0.1668 - accuracy: 0.9485\n",
            "Epoch 14/50\n",
            "238/238 [==============================] - 3s 11ms/step - loss: 0.1754 - accuracy: 0.9429\n",
            "Epoch 15/50\n",
            "238/238 [==============================] - 2s 10ms/step - loss: 0.1675 - accuracy: 0.9488\n",
            "Epoch 16/50\n",
            "238/238 [==============================] - 4s 16ms/step - loss: 0.1716 - accuracy: 0.9468\n",
            "Epoch 17/50\n",
            "238/238 [==============================] - 3s 12ms/step - loss: 0.1736 - accuracy: 0.9453\n",
            "Epoch 18/50\n",
            "238/238 [==============================] - 3s 11ms/step - loss: 0.1678 - accuracy: 0.9486\n",
            "Epoch 19/50\n",
            "238/238 [==============================] - 2s 10ms/step - loss: 0.1611 - accuracy: 0.9517\n",
            "Epoch 20/50\n",
            "238/238 [==============================] - 3s 11ms/step - loss: 0.1587 - accuracy: 0.9513\n",
            "Epoch 21/50\n",
            "238/238 [==============================] - 4s 15ms/step - loss: 0.1611 - accuracy: 0.9501\n",
            "Epoch 22/50\n",
            "238/238 [==============================] - 3s 13ms/step - loss: 0.1611 - accuracy: 0.9497\n",
            "Epoch 23/50\n",
            "238/238 [==============================] - 3s 11ms/step - loss: 0.1667 - accuracy: 0.9478\n",
            "Epoch 24/50\n",
            "238/238 [==============================] - 3s 11ms/step - loss: 0.1557 - accuracy: 0.9507\n",
            "Epoch 25/50\n",
            "238/238 [==============================] - 3s 11ms/step - loss: 0.1567 - accuracy: 0.9524\n",
            "Epoch 26/50\n",
            "238/238 [==============================] - 4s 17ms/step - loss: 0.1594 - accuracy: 0.9499\n",
            "Epoch 27/50\n",
            "238/238 [==============================] - 4s 16ms/step - loss: 0.1602 - accuracy: 0.9501\n",
            "Epoch 28/50\n",
            "238/238 [==============================] - 3s 11ms/step - loss: 0.1631 - accuracy: 0.9468\n",
            "Epoch 29/50\n",
            "238/238 [==============================] - 3s 11ms/step - loss: 0.1529 - accuracy: 0.9518\n",
            "Epoch 30/50\n",
            "238/238 [==============================] - 3s 11ms/step - loss: 0.1533 - accuracy: 0.9518\n",
            "Epoch 31/50\n",
            "238/238 [==============================] - 4s 16ms/step - loss: 0.1426 - accuracy: 0.9582\n",
            "Epoch 32/50\n",
            "238/238 [==============================] - 3s 13ms/step - loss: 0.1560 - accuracy: 0.9509\n",
            "Epoch 33/50\n",
            "238/238 [==============================] - 3s 11ms/step - loss: 0.1513 - accuracy: 0.9544\n",
            "Epoch 34/50\n",
            "238/238 [==============================] - 2s 10ms/step - loss: 0.1470 - accuracy: 0.9556\n",
            "Epoch 35/50\n",
            "238/238 [==============================] - 3s 11ms/step - loss: 0.1459 - accuracy: 0.9543\n",
            "Epoch 36/50\n",
            "238/238 [==============================] - 3s 14ms/step - loss: 0.1503 - accuracy: 0.9540\n",
            "Epoch 37/50\n",
            "238/238 [==============================] - 3s 14ms/step - loss: 0.1472 - accuracy: 0.9534\n",
            "Epoch 38/50\n",
            "238/238 [==============================] - 3s 11ms/step - loss: 0.1439 - accuracy: 0.9536\n",
            "Epoch 39/50\n",
            "238/238 [==============================] - 2s 10ms/step - loss: 0.1390 - accuracy: 0.9569\n",
            "Epoch 40/50\n",
            "238/238 [==============================] - 2s 10ms/step - loss: 0.1446 - accuracy: 0.9564\n",
            "Epoch 41/50\n",
            "238/238 [==============================] - 3s 12ms/step - loss: 0.1470 - accuracy: 0.9551\n",
            "Epoch 42/50\n",
            "238/238 [==============================] - 4s 15ms/step - loss: 0.1463 - accuracy: 0.9523\n",
            "Epoch 43/50\n",
            "238/238 [==============================] - 2s 10ms/step - loss: 0.1419 - accuracy: 0.9565\n",
            "Epoch 44/50\n",
            "238/238 [==============================] - 2s 10ms/step - loss: 0.1341 - accuracy: 0.9589\n",
            "Epoch 45/50\n",
            "238/238 [==============================] - 2s 10ms/step - loss: 0.1543 - accuracy: 0.9503\n",
            "Epoch 46/50\n",
            "238/238 [==============================] - 2s 10ms/step - loss: 0.1360 - accuracy: 0.9580\n",
            "Epoch 47/50\n",
            "238/238 [==============================] - 4s 17ms/step - loss: 0.1400 - accuracy: 0.9578\n",
            "Epoch 48/50\n",
            "238/238 [==============================] - 3s 11ms/step - loss: 0.1369 - accuracy: 0.9564\n",
            "Epoch 49/50\n",
            "238/238 [==============================] - 2s 10ms/step - loss: 0.1437 - accuracy: 0.9564\n",
            "Epoch 50/50\n",
            "238/238 [==============================] - 2s 10ms/step - loss: 0.1332 - accuracy: 0.9589\n",
            "Accuracy: 96.11%\n"
          ]
        }
      ]
    }
  ]
}