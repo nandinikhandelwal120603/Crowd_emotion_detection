{
  "nbformat": 4,
  "nbformat_minor": 0,
  "metadata": {
    "colab": {
      "provenance": []
    },
    "kernelspec": {
      "name": "python3",
      "display_name": "Python 3"
    },
    "language_info": {
      "name": "python"
    }
  },
  "cells": [
    {
      "cell_type": "code",
      "source": [
        "import pandas as pd\n",
        "import numpy as np\n",
        "import matplotlib.pyplot as plt"
      ],
      "metadata": {
        "id": "dJ5j7SC7Pjy7"
      },
      "execution_count": 119,
      "outputs": []
    },
    {
      "cell_type": "code",
      "source": [
        "from google.colab import drive\n",
        "drive.mount('/content/drive')"
      ],
      "metadata": {
        "colab": {
          "base_uri": "https://localhost:8080/"
        },
        "id": "8hS2SoTOno6P",
        "outputId": "0241fb39-58c7-4be8-e37d-0384ce6c7000"
      },
      "execution_count": 120,
      "outputs": [
        {
          "output_type": "stream",
          "name": "stdout",
          "text": [
            "Drive already mounted at /content/drive; to attempt to forcibly remount, call drive.mount(\"/content/drive\", force_remount=True).\n"
          ]
        }
      ]
    },
    {
      "cell_type": "code",
      "execution_count": 121,
      "metadata": {
        "colab": {
          "base_uri": "https://localhost:8080/",
          "height": 423
        },
        "id": "Ru8VryK1OQoo",
        "outputId": "dbb4dbeb-f6b9-4310-df5a-d71d18788d8e"
      },
      "outputs": [
        {
          "output_type": "execute_result",
          "data": {
            "text/plain": [
              "      Unnamed: 0        f0        f1        f2        f3        f4  target\n",
              "0              0  1.081172 -7.120204  0.680698  0.753853  0.287723       1\n",
              "1              1  0.959863 -6.558257  0.661967  0.766074  0.287658       1\n",
              "2              2  0.885624 -6.590372  0.676322  0.770636  0.287718       1\n",
              "3              3  0.907701 -6.995509  0.668329  0.753980  0.287320       1\n",
              "4              4  0.844454 -6.508078  0.654847  0.761404  0.287131       1\n",
              "...          ...       ...       ...       ...       ...       ...     ...\n",
              "9510        7335  1.275672 -2.170918  0.492680  0.681460  0.284750       3\n",
              "9511        7336  1.290434 -0.585534  0.520101  0.724953  0.282635       3\n",
              "9512        7337  1.163247 -0.428505  0.533896  0.717561  0.281436       3\n",
              "9513        7338  1.324318 -1.359741  0.522031  0.704803  0.284642       3\n",
              "9514        7339  1.731660 -0.616292  0.550700  0.716718  0.284426       3\n",
              "\n",
              "[9515 rows x 7 columns]"
            ],
            "text/html": [
              "\n",
              "  <div id=\"df-e9929215-5a77-4e9b-a48b-940508d4d27d\">\n",
              "    <div class=\"colab-df-container\">\n",
              "      <div>\n",
              "<style scoped>\n",
              "    .dataframe tbody tr th:only-of-type {\n",
              "        vertical-align: middle;\n",
              "    }\n",
              "\n",
              "    .dataframe tbody tr th {\n",
              "        vertical-align: top;\n",
              "    }\n",
              "\n",
              "    .dataframe thead th {\n",
              "        text-align: right;\n",
              "    }\n",
              "</style>\n",
              "<table border=\"1\" class=\"dataframe\">\n",
              "  <thead>\n",
              "    <tr style=\"text-align: right;\">\n",
              "      <th></th>\n",
              "      <th>Unnamed: 0</th>\n",
              "      <th>f0</th>\n",
              "      <th>f1</th>\n",
              "      <th>f2</th>\n",
              "      <th>f3</th>\n",
              "      <th>f4</th>\n",
              "      <th>target</th>\n",
              "    </tr>\n",
              "  </thead>\n",
              "  <tbody>\n",
              "    <tr>\n",
              "      <th>0</th>\n",
              "      <td>0</td>\n",
              "      <td>1.081172</td>\n",
              "      <td>-7.120204</td>\n",
              "      <td>0.680698</td>\n",
              "      <td>0.753853</td>\n",
              "      <td>0.287723</td>\n",
              "      <td>1</td>\n",
              "    </tr>\n",
              "    <tr>\n",
              "      <th>1</th>\n",
              "      <td>1</td>\n",
              "      <td>0.959863</td>\n",
              "      <td>-6.558257</td>\n",
              "      <td>0.661967</td>\n",
              "      <td>0.766074</td>\n",
              "      <td>0.287658</td>\n",
              "      <td>1</td>\n",
              "    </tr>\n",
              "    <tr>\n",
              "      <th>2</th>\n",
              "      <td>2</td>\n",
              "      <td>0.885624</td>\n",
              "      <td>-6.590372</td>\n",
              "      <td>0.676322</td>\n",
              "      <td>0.770636</td>\n",
              "      <td>0.287718</td>\n",
              "      <td>1</td>\n",
              "    </tr>\n",
              "    <tr>\n",
              "      <th>3</th>\n",
              "      <td>3</td>\n",
              "      <td>0.907701</td>\n",
              "      <td>-6.995509</td>\n",
              "      <td>0.668329</td>\n",
              "      <td>0.753980</td>\n",
              "      <td>0.287320</td>\n",
              "      <td>1</td>\n",
              "    </tr>\n",
              "    <tr>\n",
              "      <th>4</th>\n",
              "      <td>4</td>\n",
              "      <td>0.844454</td>\n",
              "      <td>-6.508078</td>\n",
              "      <td>0.654847</td>\n",
              "      <td>0.761404</td>\n",
              "      <td>0.287131</td>\n",
              "      <td>1</td>\n",
              "    </tr>\n",
              "    <tr>\n",
              "      <th>...</th>\n",
              "      <td>...</td>\n",
              "      <td>...</td>\n",
              "      <td>...</td>\n",
              "      <td>...</td>\n",
              "      <td>...</td>\n",
              "      <td>...</td>\n",
              "      <td>...</td>\n",
              "    </tr>\n",
              "    <tr>\n",
              "      <th>9510</th>\n",
              "      <td>7335</td>\n",
              "      <td>1.275672</td>\n",
              "      <td>-2.170918</td>\n",
              "      <td>0.492680</td>\n",
              "      <td>0.681460</td>\n",
              "      <td>0.284750</td>\n",
              "      <td>3</td>\n",
              "    </tr>\n",
              "    <tr>\n",
              "      <th>9511</th>\n",
              "      <td>7336</td>\n",
              "      <td>1.290434</td>\n",
              "      <td>-0.585534</td>\n",
              "      <td>0.520101</td>\n",
              "      <td>0.724953</td>\n",
              "      <td>0.282635</td>\n",
              "      <td>3</td>\n",
              "    </tr>\n",
              "    <tr>\n",
              "      <th>9512</th>\n",
              "      <td>7337</td>\n",
              "      <td>1.163247</td>\n",
              "      <td>-0.428505</td>\n",
              "      <td>0.533896</td>\n",
              "      <td>0.717561</td>\n",
              "      <td>0.281436</td>\n",
              "      <td>3</td>\n",
              "    </tr>\n",
              "    <tr>\n",
              "      <th>9513</th>\n",
              "      <td>7338</td>\n",
              "      <td>1.324318</td>\n",
              "      <td>-1.359741</td>\n",
              "      <td>0.522031</td>\n",
              "      <td>0.704803</td>\n",
              "      <td>0.284642</td>\n",
              "      <td>3</td>\n",
              "    </tr>\n",
              "    <tr>\n",
              "      <th>9514</th>\n",
              "      <td>7339</td>\n",
              "      <td>1.731660</td>\n",
              "      <td>-0.616292</td>\n",
              "      <td>0.550700</td>\n",
              "      <td>0.716718</td>\n",
              "      <td>0.284426</td>\n",
              "      <td>3</td>\n",
              "    </tr>\n",
              "  </tbody>\n",
              "</table>\n",
              "<p>9515 rows × 7 columns</p>\n",
              "</div>\n",
              "      <button class=\"colab-df-convert\" onclick=\"convertToInteractive('df-e9929215-5a77-4e9b-a48b-940508d4d27d')\"\n",
              "              title=\"Convert this dataframe to an interactive table.\"\n",
              "              style=\"display:none;\">\n",
              "        \n",
              "  <svg xmlns=\"http://www.w3.org/2000/svg\" height=\"24px\"viewBox=\"0 0 24 24\"\n",
              "       width=\"24px\">\n",
              "    <path d=\"M0 0h24v24H0V0z\" fill=\"none\"/>\n",
              "    <path d=\"M18.56 5.44l.94 2.06.94-2.06 2.06-.94-2.06-.94-.94-2.06-.94 2.06-2.06.94zm-11 1L8.5 8.5l.94-2.06 2.06-.94-2.06-.94L8.5 2.5l-.94 2.06-2.06.94zm10 10l.94 2.06.94-2.06 2.06-.94-2.06-.94-.94-2.06-.94 2.06-2.06.94z\"/><path d=\"M17.41 7.96l-1.37-1.37c-.4-.4-.92-.59-1.43-.59-.52 0-1.04.2-1.43.59L10.3 9.45l-7.72 7.72c-.78.78-.78 2.05 0 2.83L4 21.41c.39.39.9.59 1.41.59.51 0 1.02-.2 1.41-.59l7.78-7.78 2.81-2.81c.8-.78.8-2.07 0-2.86zM5.41 20L4 18.59l7.72-7.72 1.47 1.35L5.41 20z\"/>\n",
              "  </svg>\n",
              "      </button>\n",
              "      \n",
              "  <style>\n",
              "    .colab-df-container {\n",
              "      display:flex;\n",
              "      flex-wrap:wrap;\n",
              "      gap: 12px;\n",
              "    }\n",
              "\n",
              "    .colab-df-convert {\n",
              "      background-color: #E8F0FE;\n",
              "      border: none;\n",
              "      border-radius: 50%;\n",
              "      cursor: pointer;\n",
              "      display: none;\n",
              "      fill: #1967D2;\n",
              "      height: 32px;\n",
              "      padding: 0 0 0 0;\n",
              "      width: 32px;\n",
              "    }\n",
              "\n",
              "    .colab-df-convert:hover {\n",
              "      background-color: #E2EBFA;\n",
              "      box-shadow: 0px 1px 2px rgba(60, 64, 67, 0.3), 0px 1px 3px 1px rgba(60, 64, 67, 0.15);\n",
              "      fill: #174EA6;\n",
              "    }\n",
              "\n",
              "    [theme=dark] .colab-df-convert {\n",
              "      background-color: #3B4455;\n",
              "      fill: #D2E3FC;\n",
              "    }\n",
              "\n",
              "    [theme=dark] .colab-df-convert:hover {\n",
              "      background-color: #434B5C;\n",
              "      box-shadow: 0px 1px 3px 1px rgba(0, 0, 0, 0.15);\n",
              "      filter: drop-shadow(0px 1px 2px rgba(0, 0, 0, 0.3));\n",
              "      fill: #FFFFFF;\n",
              "    }\n",
              "  </style>\n",
              "\n",
              "      <script>\n",
              "        const buttonEl =\n",
              "          document.querySelector('#df-e9929215-5a77-4e9b-a48b-940508d4d27d button.colab-df-convert');\n",
              "        buttonEl.style.display =\n",
              "          google.colab.kernel.accessAllowed ? 'block' : 'none';\n",
              "\n",
              "        async function convertToInteractive(key) {\n",
              "          const element = document.querySelector('#df-e9929215-5a77-4e9b-a48b-940508d4d27d');\n",
              "          const dataTable =\n",
              "            await google.colab.kernel.invokeFunction('convertToInteractive',\n",
              "                                                     [key], {});\n",
              "          if (!dataTable) return;\n",
              "\n",
              "          const docLinkHtml = 'Like what you see? Visit the ' +\n",
              "            '<a target=\"_blank\" href=https://colab.research.google.com/notebooks/data_table.ipynb>data table notebook</a>'\n",
              "            + ' to learn more about interactive tables.';\n",
              "          element.innerHTML = '';\n",
              "          dataTable['output_type'] = 'display_data';\n",
              "          await google.colab.output.renderOutput(dataTable, element);\n",
              "          const docLink = document.createElement('div');\n",
              "          docLink.innerHTML = docLinkHtml;\n",
              "          element.appendChild(docLink);\n",
              "        }\n",
              "      </script>\n",
              "    </div>\n",
              "  </div>\n",
              "  "
            ]
          },
          "metadata": {},
          "execution_count": 121
        }
      ],
      "source": [
        "df=pd.read_csv('/content/preprocessing data (1).csv')\n",
        "df"
      ]
    },
    {
      "cell_type": "code",
      "source": [
        "df.drop(columns=df.columns[0],axis=1,inplace=True);\n"
      ],
      "metadata": {
        "id": "feNszmnMQJPi"
      },
      "execution_count": 122,
      "outputs": []
    },
    {
      "cell_type": "code",
      "source": [
        "df"
      ],
      "metadata": {
        "colab": {
          "base_uri": "https://localhost:8080/",
          "height": 423
        },
        "id": "17Q9hU0aQTr2",
        "outputId": "9c3760a3-ca46-4607-bddc-9244f958f88d"
      },
      "execution_count": 123,
      "outputs": [
        {
          "output_type": "execute_result",
          "data": {
            "text/plain": [
              "            f0        f1        f2        f3        f4  target\n",
              "0     1.081172 -7.120204  0.680698  0.753853  0.287723       1\n",
              "1     0.959863 -6.558257  0.661967  0.766074  0.287658       1\n",
              "2     0.885624 -6.590372  0.676322  0.770636  0.287718       1\n",
              "3     0.907701 -6.995509  0.668329  0.753980  0.287320       1\n",
              "4     0.844454 -6.508078  0.654847  0.761404  0.287131       1\n",
              "...        ...       ...       ...       ...       ...     ...\n",
              "9510  1.275672 -2.170918  0.492680  0.681460  0.284750       3\n",
              "9511  1.290434 -0.585534  0.520101  0.724953  0.282635       3\n",
              "9512  1.163247 -0.428505  0.533896  0.717561  0.281436       3\n",
              "9513  1.324318 -1.359741  0.522031  0.704803  0.284642       3\n",
              "9514  1.731660 -0.616292  0.550700  0.716718  0.284426       3\n",
              "\n",
              "[9515 rows x 6 columns]"
            ],
            "text/html": [
              "\n",
              "  <div id=\"df-d4db34c9-20a3-413c-bb84-080740f1e103\">\n",
              "    <div class=\"colab-df-container\">\n",
              "      <div>\n",
              "<style scoped>\n",
              "    .dataframe tbody tr th:only-of-type {\n",
              "        vertical-align: middle;\n",
              "    }\n",
              "\n",
              "    .dataframe tbody tr th {\n",
              "        vertical-align: top;\n",
              "    }\n",
              "\n",
              "    .dataframe thead th {\n",
              "        text-align: right;\n",
              "    }\n",
              "</style>\n",
              "<table border=\"1\" class=\"dataframe\">\n",
              "  <thead>\n",
              "    <tr style=\"text-align: right;\">\n",
              "      <th></th>\n",
              "      <th>f0</th>\n",
              "      <th>f1</th>\n",
              "      <th>f2</th>\n",
              "      <th>f3</th>\n",
              "      <th>f4</th>\n",
              "      <th>target</th>\n",
              "    </tr>\n",
              "  </thead>\n",
              "  <tbody>\n",
              "    <tr>\n",
              "      <th>0</th>\n",
              "      <td>1.081172</td>\n",
              "      <td>-7.120204</td>\n",
              "      <td>0.680698</td>\n",
              "      <td>0.753853</td>\n",
              "      <td>0.287723</td>\n",
              "      <td>1</td>\n",
              "    </tr>\n",
              "    <tr>\n",
              "      <th>1</th>\n",
              "      <td>0.959863</td>\n",
              "      <td>-6.558257</td>\n",
              "      <td>0.661967</td>\n",
              "      <td>0.766074</td>\n",
              "      <td>0.287658</td>\n",
              "      <td>1</td>\n",
              "    </tr>\n",
              "    <tr>\n",
              "      <th>2</th>\n",
              "      <td>0.885624</td>\n",
              "      <td>-6.590372</td>\n",
              "      <td>0.676322</td>\n",
              "      <td>0.770636</td>\n",
              "      <td>0.287718</td>\n",
              "      <td>1</td>\n",
              "    </tr>\n",
              "    <tr>\n",
              "      <th>3</th>\n",
              "      <td>0.907701</td>\n",
              "      <td>-6.995509</td>\n",
              "      <td>0.668329</td>\n",
              "      <td>0.753980</td>\n",
              "      <td>0.287320</td>\n",
              "      <td>1</td>\n",
              "    </tr>\n",
              "    <tr>\n",
              "      <th>4</th>\n",
              "      <td>0.844454</td>\n",
              "      <td>-6.508078</td>\n",
              "      <td>0.654847</td>\n",
              "      <td>0.761404</td>\n",
              "      <td>0.287131</td>\n",
              "      <td>1</td>\n",
              "    </tr>\n",
              "    <tr>\n",
              "      <th>...</th>\n",
              "      <td>...</td>\n",
              "      <td>...</td>\n",
              "      <td>...</td>\n",
              "      <td>...</td>\n",
              "      <td>...</td>\n",
              "      <td>...</td>\n",
              "    </tr>\n",
              "    <tr>\n",
              "      <th>9510</th>\n",
              "      <td>1.275672</td>\n",
              "      <td>-2.170918</td>\n",
              "      <td>0.492680</td>\n",
              "      <td>0.681460</td>\n",
              "      <td>0.284750</td>\n",
              "      <td>3</td>\n",
              "    </tr>\n",
              "    <tr>\n",
              "      <th>9511</th>\n",
              "      <td>1.290434</td>\n",
              "      <td>-0.585534</td>\n",
              "      <td>0.520101</td>\n",
              "      <td>0.724953</td>\n",
              "      <td>0.282635</td>\n",
              "      <td>3</td>\n",
              "    </tr>\n",
              "    <tr>\n",
              "      <th>9512</th>\n",
              "      <td>1.163247</td>\n",
              "      <td>-0.428505</td>\n",
              "      <td>0.533896</td>\n",
              "      <td>0.717561</td>\n",
              "      <td>0.281436</td>\n",
              "      <td>3</td>\n",
              "    </tr>\n",
              "    <tr>\n",
              "      <th>9513</th>\n",
              "      <td>1.324318</td>\n",
              "      <td>-1.359741</td>\n",
              "      <td>0.522031</td>\n",
              "      <td>0.704803</td>\n",
              "      <td>0.284642</td>\n",
              "      <td>3</td>\n",
              "    </tr>\n",
              "    <tr>\n",
              "      <th>9514</th>\n",
              "      <td>1.731660</td>\n",
              "      <td>-0.616292</td>\n",
              "      <td>0.550700</td>\n",
              "      <td>0.716718</td>\n",
              "      <td>0.284426</td>\n",
              "      <td>3</td>\n",
              "    </tr>\n",
              "  </tbody>\n",
              "</table>\n",
              "<p>9515 rows × 6 columns</p>\n",
              "</div>\n",
              "      <button class=\"colab-df-convert\" onclick=\"convertToInteractive('df-d4db34c9-20a3-413c-bb84-080740f1e103')\"\n",
              "              title=\"Convert this dataframe to an interactive table.\"\n",
              "              style=\"display:none;\">\n",
              "        \n",
              "  <svg xmlns=\"http://www.w3.org/2000/svg\" height=\"24px\"viewBox=\"0 0 24 24\"\n",
              "       width=\"24px\">\n",
              "    <path d=\"M0 0h24v24H0V0z\" fill=\"none\"/>\n",
              "    <path d=\"M18.56 5.44l.94 2.06.94-2.06 2.06-.94-2.06-.94-.94-2.06-.94 2.06-2.06.94zm-11 1L8.5 8.5l.94-2.06 2.06-.94-2.06-.94L8.5 2.5l-.94 2.06-2.06.94zm10 10l.94 2.06.94-2.06 2.06-.94-2.06-.94-.94-2.06-.94 2.06-2.06.94z\"/><path d=\"M17.41 7.96l-1.37-1.37c-.4-.4-.92-.59-1.43-.59-.52 0-1.04.2-1.43.59L10.3 9.45l-7.72 7.72c-.78.78-.78 2.05 0 2.83L4 21.41c.39.39.9.59 1.41.59.51 0 1.02-.2 1.41-.59l7.78-7.78 2.81-2.81c.8-.78.8-2.07 0-2.86zM5.41 20L4 18.59l7.72-7.72 1.47 1.35L5.41 20z\"/>\n",
              "  </svg>\n",
              "      </button>\n",
              "      \n",
              "  <style>\n",
              "    .colab-df-container {\n",
              "      display:flex;\n",
              "      flex-wrap:wrap;\n",
              "      gap: 12px;\n",
              "    }\n",
              "\n",
              "    .colab-df-convert {\n",
              "      background-color: #E8F0FE;\n",
              "      border: none;\n",
              "      border-radius: 50%;\n",
              "      cursor: pointer;\n",
              "      display: none;\n",
              "      fill: #1967D2;\n",
              "      height: 32px;\n",
              "      padding: 0 0 0 0;\n",
              "      width: 32px;\n",
              "    }\n",
              "\n",
              "    .colab-df-convert:hover {\n",
              "      background-color: #E2EBFA;\n",
              "      box-shadow: 0px 1px 2px rgba(60, 64, 67, 0.3), 0px 1px 3px 1px rgba(60, 64, 67, 0.15);\n",
              "      fill: #174EA6;\n",
              "    }\n",
              "\n",
              "    [theme=dark] .colab-df-convert {\n",
              "      background-color: #3B4455;\n",
              "      fill: #D2E3FC;\n",
              "    }\n",
              "\n",
              "    [theme=dark] .colab-df-convert:hover {\n",
              "      background-color: #434B5C;\n",
              "      box-shadow: 0px 1px 3px 1px rgba(0, 0, 0, 0.15);\n",
              "      filter: drop-shadow(0px 1px 2px rgba(0, 0, 0, 0.3));\n",
              "      fill: #FFFFFF;\n",
              "    }\n",
              "  </style>\n",
              "\n",
              "      <script>\n",
              "        const buttonEl =\n",
              "          document.querySelector('#df-d4db34c9-20a3-413c-bb84-080740f1e103 button.colab-df-convert');\n",
              "        buttonEl.style.display =\n",
              "          google.colab.kernel.accessAllowed ? 'block' : 'none';\n",
              "\n",
              "        async function convertToInteractive(key) {\n",
              "          const element = document.querySelector('#df-d4db34c9-20a3-413c-bb84-080740f1e103');\n",
              "          const dataTable =\n",
              "            await google.colab.kernel.invokeFunction('convertToInteractive',\n",
              "                                                     [key], {});\n",
              "          if (!dataTable) return;\n",
              "\n",
              "          const docLinkHtml = 'Like what you see? Visit the ' +\n",
              "            '<a target=\"_blank\" href=https://colab.research.google.com/notebooks/data_table.ipynb>data table notebook</a>'\n",
              "            + ' to learn more about interactive tables.';\n",
              "          element.innerHTML = '';\n",
              "          dataTable['output_type'] = 'display_data';\n",
              "          await google.colab.output.renderOutput(dataTable, element);\n",
              "          const docLink = document.createElement('div');\n",
              "          docLink.innerHTML = docLinkHtml;\n",
              "          element.appendChild(docLink);\n",
              "        }\n",
              "      </script>\n",
              "    </div>\n",
              "  </div>\n",
              "  "
            ]
          },
          "metadata": {},
          "execution_count": 123
        }
      ]
    },
    {
      "cell_type": "code",
      "source": [
        "#type(df)\n",
        "df.shape"
      ],
      "metadata": {
        "colab": {
          "base_uri": "https://localhost:8080/"
        },
        "id": "eo_FrAi8S9lV",
        "outputId": "54eb340f-5542-490a-e727-d49f0c6efeba"
      },
      "execution_count": 124,
      "outputs": [
        {
          "output_type": "execute_result",
          "data": {
            "text/plain": [
              "(9515, 6)"
            ]
          },
          "metadata": {},
          "execution_count": 124
        }
      ]
    },
    {
      "cell_type": "code",
      "source": [
        "X=df[['f0','f1','f2','f3','f4']]\n",
        "y=df['target']"
      ],
      "metadata": {
        "id": "WuN9pdXrQ7yy"
      },
      "execution_count": 125,
      "outputs": []
    },
    {
      "cell_type": "code",
      "source": [
        "X = X.to_numpy()"
      ],
      "metadata": {
        "id": "RT7mLDWqkV9f"
      },
      "execution_count": 126,
      "outputs": []
    },
    {
      "cell_type": "code",
      "source": [
        "type(X)"
      ],
      "metadata": {
        "colab": {
          "base_uri": "https://localhost:8080/"
        },
        "id": "ttNV1n_mkpr0",
        "outputId": "4a897236-bee5-498f-ca21-1607187ac8fa"
      },
      "execution_count": 127,
      "outputs": [
        {
          "output_type": "execute_result",
          "data": {
            "text/plain": [
              "numpy.ndarray"
            ]
          },
          "metadata": {},
          "execution_count": 127
        }
      ]
    },
    {
      "cell_type": "code",
      "source": [
        "X.reshape(-1,5)"
      ],
      "metadata": {
        "colab": {
          "base_uri": "https://localhost:8080/"
        },
        "id": "jrOy3B9vegfS",
        "outputId": "760fdcd4-437e-4337-e349-0365d4d365fe"
      },
      "execution_count": 128,
      "outputs": [
        {
          "output_type": "execute_result",
          "data": {
            "text/plain": [
              "array([[ 1.08117235, -7.12020445,  0.6806978 ,  0.75385284,  0.28772255],\n",
              "       [ 0.95986348, -6.5582571 ,  0.66196656,  0.766074  ,  0.28765817],\n",
              "       [ 0.88562375, -6.59037209,  0.6763221 ,  0.77063632,  0.28771833],\n",
              "       ...,\n",
              "       [ 1.16324663, -0.42850453,  0.53389639,  0.71756053,  0.28143615],\n",
              "       [ 1.32431757, -1.35974145,  0.52203089,  0.70480287,  0.28464224],\n",
              "       [ 1.73166049, -0.61629182,  0.55070013,  0.71671802,  0.28442608]])"
            ]
          },
          "metadata": {},
          "execution_count": 128
        }
      ]
    },
    {
      "cell_type": "code",
      "source": [
        "X.shape"
      ],
      "metadata": {
        "colab": {
          "base_uri": "https://localhost:8080/"
        },
        "id": "P0TETzNiiwRt",
        "outputId": "06a958a0-a926-4b18-865b-f7d317e56faf"
      },
      "execution_count": 129,
      "outputs": [
        {
          "output_type": "execute_result",
          "data": {
            "text/plain": [
              "(9515, 5)"
            ]
          },
          "metadata": {},
          "execution_count": 129
        }
      ]
    },
    {
      "cell_type": "code",
      "source": [
        "X=X.reshape((X.shape[0], X.shape[1], 1))"
      ],
      "metadata": {
        "id": "1BhpwXiTgBoP"
      },
      "execution_count": 130,
      "outputs": []
    },
    {
      "cell_type": "code",
      "source": [
        "X.shape"
      ],
      "metadata": {
        "colab": {
          "base_uri": "https://localhost:8080/"
        },
        "id": "ndQFXuSzjOlN",
        "outputId": "49803a23-bb8b-44c5-ca1e-c5acdfac4365"
      },
      "execution_count": 131,
      "outputs": [
        {
          "output_type": "execute_result",
          "data": {
            "text/plain": [
              "(9515, 5, 1)"
            ]
          },
          "metadata": {},
          "execution_count": 131
        }
      ]
    },
    {
      "cell_type": "code",
      "source": [
        "from sklearn.preprocessing import OneHotEncoder\n",
        "encoder = OneHotEncoder(sparse=False)\n",
        "\n",
        "# fit encoder to target variable and transform it to one-hot encoding\n",
        "y_encoded = encoder.fit_transform(y.values.reshape(-1, 1))\n",
        "\n",
        "print(y_encoded)"
      ],
      "metadata": {
        "colab": {
          "base_uri": "https://localhost:8080/"
        },
        "id": "uveFMn55jvvp",
        "outputId": "2017a80e-a409-417b-961b-e0e4576739bb"
      },
      "execution_count": 132,
      "outputs": [
        {
          "output_type": "stream",
          "name": "stdout",
          "text": [
            "[[1. 0. 0.]\n",
            " [1. 0. 0.]\n",
            " [1. 0. 0.]\n",
            " ...\n",
            " [0. 0. 1.]\n",
            " [0. 0. 1.]\n",
            " [0. 0. 1.]]\n"
          ]
        },
        {
          "output_type": "stream",
          "name": "stderr",
          "text": [
            "/usr/local/lib/python3.8/dist-packages/sklearn/preprocessing/_encoders.py:828: FutureWarning: `sparse` was renamed to `sparse_output` in version 1.2 and will be removed in 1.4. `sparse_output` is ignored unless you leave `sparse` to its default value.\n",
            "  warnings.warn(\n"
          ]
        }
      ]
    },
    {
      "cell_type": "code",
      "source": [
        "y_encoded.shape"
      ],
      "metadata": {
        "colab": {
          "base_uri": "https://localhost:8080/"
        },
        "id": "8hYhJXFHk6Xn",
        "outputId": "72e6e248-2942-42ed-efe0-32a46f0b55a8"
      },
      "execution_count": 133,
      "outputs": [
        {
          "output_type": "execute_result",
          "data": {
            "text/plain": [
              "(9515, 3)"
            ]
          },
          "metadata": {},
          "execution_count": 133
        }
      ]
    },
    {
      "cell_type": "code",
      "source": [
        "from sklearn.model_selection import train_test_split\n",
        "\n",
        "X_train, X_test, y_train, y_test = train_test_split(X, y_encoded, test_size=0.20, random_state=42)"
      ],
      "metadata": {
        "id": "15Id-n2nQ7ue"
      },
      "execution_count": 134,
      "outputs": []
    },
    {
      "cell_type": "code",
      "source": [
        "X_train.shape"
      ],
      "metadata": {
        "colab": {
          "base_uri": "https://localhost:8080/"
        },
        "id": "2xHzOvYFZ-HC",
        "outputId": "697b497f-1bd6-4365-cbae-1f258c6c49be"
      },
      "execution_count": 135,
      "outputs": [
        {
          "output_type": "execute_result",
          "data": {
            "text/plain": [
              "(7612, 5, 1)"
            ]
          },
          "metadata": {},
          "execution_count": 135
        }
      ]
    },
    {
      "cell_type": "code",
      "source": [
        "from keras.models import Sequential\n",
        "from keras.layers import Conv1D, MaxPooling1D, Flatten, Dense\n",
        "\n",
        "# assuming you have already loaded your X and y variables\n",
        "model = Sequential()\n",
        "\n",
        "# add convolutional layer\n",
        "model.add(Conv1D(64, 3, activation='relu', input_shape=(5, 1)))\n",
        "\n",
        "# add max pooling layer\n",
        "model.add(MaxPooling1D(pool_size=2))\n",
        "\n",
        "# add flattening layer\n",
        "model.add(Flatten())\n",
        "\n",
        "# add dense layers for classification\n",
        "model.add(Dense(64, activation='relu'))\n",
        "model.add(Dense(3, activation='softmax'))\n",
        "\n",
        "# compile model\n",
        "model.compile(optimizer='adam', loss='categorical_crossentropy', metrics=['accuracy'])\n",
        "\n",
        "# fit model to data\n",
        "#model.fit(X_train, y_train, epochs=50, batch_size=32)\n"
      ],
      "metadata": {
        "id": "Eb7R3Z_7lHEu"
      },
      "execution_count": 136,
      "outputs": []
    },
    {
      "cell_type": "code",
      "source": [
        "#history=model.fit(X_train, y_train, epochs=50)\n",
        "#score = model.evaluate(X_test, y_test)"
      ],
      "metadata": {
        "id": "vJmKX9tRrK6q"
      },
      "execution_count": 137,
      "outputs": []
    },
    {
      "cell_type": "code",
      "source": [
        "model.summary()"
      ],
      "metadata": {
        "colab": {
          "base_uri": "https://localhost:8080/"
        },
        "id": "ifsrFxHsrQP3",
        "outputId": "5dcbfff6-d098-43e8-8c39-9438616ef7ca"
      },
      "execution_count": 138,
      "outputs": [
        {
          "output_type": "stream",
          "name": "stdout",
          "text": [
            "Model: \"sequential_5\"\n",
            "_________________________________________________________________\n",
            " Layer (type)                Output Shape              Param #   \n",
            "=================================================================\n",
            " conv1d_5 (Conv1D)           (None, 3, 64)             256       \n",
            "                                                                 \n",
            " max_pooling1d_5 (MaxPooling  (None, 1, 64)            0         \n",
            " 1D)                                                             \n",
            "                                                                 \n",
            " flatten_5 (Flatten)         (None, 64)                0         \n",
            "                                                                 \n",
            " dense_10 (Dense)            (None, 64)                4160      \n",
            "                                                                 \n",
            " dense_11 (Dense)            (None, 3)                 195       \n",
            "                                                                 \n",
            "=================================================================\n",
            "Total params: 4,611\n",
            "Trainable params: 4,611\n",
            "Non-trainable params: 0\n",
            "_________________________________________________________________\n"
          ]
        }
      ]
    },
    {
      "cell_type": "code",
      "source": [
        "history = model.fit(X_train, y_train, epochs=50,validation_data=(X_test, y_test), verbose=1)"
      ],
      "metadata": {
        "colab": {
          "base_uri": "https://localhost:8080/"
        },
        "id": "coCQ6ebArSuP",
        "outputId": "310a6156-b287-4883-f2f7-e2a88ddbedf2"
      },
      "execution_count": 139,
      "outputs": [
        {
          "output_type": "stream",
          "name": "stdout",
          "text": [
            "Epoch 1/50\n",
            "238/238 [==============================] - 2s 4ms/step - loss: 0.5883 - accuracy: 0.7814 - val_loss: 0.4778 - val_accuracy: 0.8145\n",
            "Epoch 2/50\n",
            "238/238 [==============================] - 1s 3ms/step - loss: 0.4445 - accuracy: 0.8337 - val_loss: 0.3916 - val_accuracy: 0.8991\n",
            "Epoch 3/50\n",
            "238/238 [==============================] - 1s 3ms/step - loss: 0.3668 - accuracy: 0.8875 - val_loss: 0.3294 - val_accuracy: 0.9059\n",
            "Epoch 4/50\n",
            "238/238 [==============================] - 1s 3ms/step - loss: 0.3030 - accuracy: 0.9011 - val_loss: 0.2619 - val_accuracy: 0.9264\n",
            "Epoch 5/50\n",
            "238/238 [==============================] - 1s 3ms/step - loss: 0.2518 - accuracy: 0.9196 - val_loss: 0.2232 - val_accuracy: 0.9401\n",
            "Epoch 6/50\n",
            "238/238 [==============================] - 1s 3ms/step - loss: 0.2240 - accuracy: 0.9272 - val_loss: 0.1994 - val_accuracy: 0.9453\n",
            "Epoch 7/50\n",
            "238/238 [==============================] - 1s 3ms/step - loss: 0.2041 - accuracy: 0.9386 - val_loss: 0.2122 - val_accuracy: 0.9201\n",
            "Epoch 8/50\n",
            "238/238 [==============================] - 1s 3ms/step - loss: 0.1972 - accuracy: 0.9372 - val_loss: 0.1778 - val_accuracy: 0.9485\n",
            "Epoch 9/50\n",
            "238/238 [==============================] - 1s 3ms/step - loss: 0.1922 - accuracy: 0.9415 - val_loss: 0.1817 - val_accuracy: 0.9338\n",
            "Epoch 10/50\n",
            "238/238 [==============================] - 1s 3ms/step - loss: 0.1869 - accuracy: 0.9422 - val_loss: 0.1664 - val_accuracy: 0.9553\n",
            "Epoch 11/50\n",
            "238/238 [==============================] - 1s 3ms/step - loss: 0.1816 - accuracy: 0.9453 - val_loss: 0.1880 - val_accuracy: 0.9396\n",
            "Epoch 12/50\n",
            "238/238 [==============================] - 1s 3ms/step - loss: 0.1782 - accuracy: 0.9453 - val_loss: 0.1573 - val_accuracy: 0.9564\n",
            "Epoch 13/50\n",
            "238/238 [==============================] - 1s 4ms/step - loss: 0.1752 - accuracy: 0.9482 - val_loss: 0.1574 - val_accuracy: 0.9564\n",
            "Epoch 14/50\n",
            "238/238 [==============================] - 1s 5ms/step - loss: 0.1694 - accuracy: 0.9505 - val_loss: 0.1547 - val_accuracy: 0.9564\n",
            "Epoch 15/50\n",
            "238/238 [==============================] - 1s 4ms/step - loss: 0.1680 - accuracy: 0.9503 - val_loss: 0.1636 - val_accuracy: 0.9527\n",
            "Epoch 16/50\n",
            "238/238 [==============================] - 1s 5ms/step - loss: 0.1702 - accuracy: 0.9486 - val_loss: 0.1572 - val_accuracy: 0.9543\n",
            "Epoch 17/50\n",
            "238/238 [==============================] - 1s 4ms/step - loss: 0.1629 - accuracy: 0.9524 - val_loss: 0.1544 - val_accuracy: 0.9574\n",
            "Epoch 18/50\n",
            "238/238 [==============================] - 1s 3ms/step - loss: 0.1600 - accuracy: 0.9543 - val_loss: 0.1490 - val_accuracy: 0.9543\n",
            "Epoch 19/50\n",
            "238/238 [==============================] - 1s 3ms/step - loss: 0.1613 - accuracy: 0.9523 - val_loss: 0.1475 - val_accuracy: 0.9606\n",
            "Epoch 20/50\n",
            "238/238 [==============================] - 1s 3ms/step - loss: 0.1567 - accuracy: 0.9542 - val_loss: 0.1450 - val_accuracy: 0.9632\n",
            "Epoch 21/50\n",
            "238/238 [==============================] - 1s 3ms/step - loss: 0.1628 - accuracy: 0.9498 - val_loss: 0.1545 - val_accuracy: 0.9511\n",
            "Epoch 22/50\n",
            "238/238 [==============================] - 1s 3ms/step - loss: 0.1611 - accuracy: 0.9499 - val_loss: 0.1484 - val_accuracy: 0.9580\n",
            "Epoch 23/50\n",
            "238/238 [==============================] - 1s 3ms/step - loss: 0.1544 - accuracy: 0.9572 - val_loss: 0.1421 - val_accuracy: 0.9606\n",
            "Epoch 24/50\n",
            "238/238 [==============================] - 1s 3ms/step - loss: 0.1519 - accuracy: 0.9560 - val_loss: 0.1518 - val_accuracy: 0.9564\n",
            "Epoch 25/50\n",
            "238/238 [==============================] - 1s 3ms/step - loss: 0.1576 - accuracy: 0.9518 - val_loss: 0.1463 - val_accuracy: 0.9538\n",
            "Epoch 26/50\n",
            "238/238 [==============================] - 1s 3ms/step - loss: 0.1533 - accuracy: 0.9536 - val_loss: 0.1573 - val_accuracy: 0.9475\n",
            "Epoch 27/50\n",
            "238/238 [==============================] - 1s 3ms/step - loss: 0.1557 - accuracy: 0.9549 - val_loss: 0.1669 - val_accuracy: 0.9490\n",
            "Epoch 28/50\n",
            "238/238 [==============================] - 1s 4ms/step - loss: 0.1510 - accuracy: 0.9551 - val_loss: 0.1459 - val_accuracy: 0.9569\n",
            "Epoch 29/50\n",
            "238/238 [==============================] - 1s 3ms/step - loss: 0.1508 - accuracy: 0.9538 - val_loss: 0.1447 - val_accuracy: 0.9606\n",
            "Epoch 30/50\n",
            "238/238 [==============================] - 1s 3ms/step - loss: 0.1471 - accuracy: 0.9586 - val_loss: 0.1396 - val_accuracy: 0.9622\n",
            "Epoch 31/50\n",
            "238/238 [==============================] - 1s 6ms/step - loss: 0.1531 - accuracy: 0.9535 - val_loss: 0.1537 - val_accuracy: 0.9553\n",
            "Epoch 32/50\n",
            "238/238 [==============================] - 1s 5ms/step - loss: 0.1459 - accuracy: 0.9566 - val_loss: 0.1391 - val_accuracy: 0.9590\n",
            "Epoch 33/50\n",
            "238/238 [==============================] - 1s 5ms/step - loss: 0.1464 - accuracy: 0.9568 - val_loss: 0.1353 - val_accuracy: 0.9601\n",
            "Epoch 34/50\n",
            "238/238 [==============================] - 1s 4ms/step - loss: 0.1466 - accuracy: 0.9553 - val_loss: 0.1391 - val_accuracy: 0.9606\n",
            "Epoch 35/50\n",
            "238/238 [==============================] - 1s 3ms/step - loss: 0.1418 - accuracy: 0.9576 - val_loss: 0.1388 - val_accuracy: 0.9632\n",
            "Epoch 36/50\n",
            "238/238 [==============================] - 1s 4ms/step - loss: 0.1416 - accuracy: 0.9574 - val_loss: 0.1445 - val_accuracy: 0.9569\n",
            "Epoch 37/50\n",
            "238/238 [==============================] - 1s 3ms/step - loss: 0.1449 - accuracy: 0.9570 - val_loss: 0.1427 - val_accuracy: 0.9559\n",
            "Epoch 38/50\n",
            "238/238 [==============================] - 1s 4ms/step - loss: 0.1419 - accuracy: 0.9576 - val_loss: 0.1364 - val_accuracy: 0.9601\n",
            "Epoch 39/50\n",
            "238/238 [==============================] - 1s 3ms/step - loss: 0.1383 - accuracy: 0.9598 - val_loss: 0.1365 - val_accuracy: 0.9595\n",
            "Epoch 40/50\n",
            "238/238 [==============================] - 1s 3ms/step - loss: 0.1418 - accuracy: 0.9572 - val_loss: 0.1308 - val_accuracy: 0.9637\n",
            "Epoch 41/50\n",
            "238/238 [==============================] - 1s 3ms/step - loss: 0.1429 - accuracy: 0.9555 - val_loss: 0.1385 - val_accuracy: 0.9590\n",
            "Epoch 42/50\n",
            "238/238 [==============================] - 1s 3ms/step - loss: 0.1420 - accuracy: 0.9564 - val_loss: 0.1570 - val_accuracy: 0.9438\n",
            "Epoch 43/50\n",
            "238/238 [==============================] - 1s 3ms/step - loss: 0.1395 - accuracy: 0.9581 - val_loss: 0.1311 - val_accuracy: 0.9632\n",
            "Epoch 44/50\n",
            "238/238 [==============================] - 1s 3ms/step - loss: 0.1406 - accuracy: 0.9581 - val_loss: 0.1277 - val_accuracy: 0.9648\n",
            "Epoch 45/50\n",
            "238/238 [==============================] - 1s 3ms/step - loss: 0.1357 - accuracy: 0.9598 - val_loss: 0.1281 - val_accuracy: 0.9616\n",
            "Epoch 46/50\n",
            "238/238 [==============================] - 1s 3ms/step - loss: 0.1425 - accuracy: 0.9570 - val_loss: 0.1243 - val_accuracy: 0.9637\n",
            "Epoch 47/50\n",
            "238/238 [==============================] - 1s 4ms/step - loss: 0.1366 - accuracy: 0.9582 - val_loss: 0.1378 - val_accuracy: 0.9611\n",
            "Epoch 48/50\n",
            "238/238 [==============================] - 1s 5ms/step - loss: 0.1353 - accuracy: 0.9598 - val_loss: 0.1334 - val_accuracy: 0.9616\n",
            "Epoch 49/50\n",
            "238/238 [==============================] - 1s 5ms/step - loss: 0.1349 - accuracy: 0.9603 - val_loss: 0.1392 - val_accuracy: 0.9601\n",
            "Epoch 50/50\n",
            "238/238 [==============================] - 1s 5ms/step - loss: 0.1362 - accuracy: 0.9586 - val_loss: 0.1268 - val_accuracy: 0.9616\n"
          ]
        }
      ]
    },
    {
      "cell_type": "code",
      "source": [
        "# confusion matrix\n",
        "from sklearn.metrics import confusion_matrix\n",
        "import seaborn as sns\n",
        "# Predict the values from the validation dataset\n",
        "Y_pred = model.predict(X_test)\n",
        "# Convert predictions classes to one hot vectors \n",
        "Y_pred_classes = np.argmax(Y_pred,axis = 1) \n",
        "# Convert validation observations to one hot vectors\n",
        "Y_true = np.argmax(y_test,axis = 1) \n",
        "# compute the confusion matrix\n",
        "confusion_mtx = confusion_matrix(Y_true, Y_pred_classes) \n",
        "# plot the confusion matrix\n",
        "f,ax = plt.subplots(figsize=(8, 8))\n",
        "sns.heatmap(confusion_mtx, annot=True, linewidths=0.01,cmap=\"Greens\",linecolor=\"gray\", fmt= '.1f',ax=ax)\n",
        "plt.xlabel(\"Predicted Label\")\n",
        "plt.ylabel(\"True Label\")\n",
        "plt.title(\"Confusion Matrix\")\n",
        "plt.show()\n"
      ],
      "metadata": {
        "colab": {
          "base_uri": "https://localhost:8080/",
          "height": 530
        },
        "id": "rRRgLFgnrv5Q",
        "outputId": "1137c874-a02c-493f-96df-9c846fbc76bf"
      },
      "execution_count": 140,
      "outputs": [
        {
          "output_type": "stream",
          "name": "stdout",
          "text": [
            "60/60 [==============================] - 0s 2ms/step\n"
          ]
        },
        {
          "output_type": "display_data",
          "data": {
            "text/plain": [
              "<Figure size 576x576 with 2 Axes>"
            ],
            "image/png": "[encoded data removed]"
          },
          "metadata": {
            "needs_background": "light"
          }
        }
      ]
    },
    {
      "cell_type": "code",
      "source": [
        "import matplotlib.pyplot as plt\n",
        "\n",
        "# summarize history for accuracy\n",
        "plt.plot(history.history['accuracy'])\n",
        "plt.plot(history.history['val_accuracy'])\n",
        "plt.title('model accuracy')\n",
        "plt.ylabel('accuracy')\n",
        "plt.xlabel('epoch')\n",
        "plt.legend(['Train', 'Validation'], loc='upper left')\n",
        "plt.show()\n",
        "# summarize history for loss\n",
        "plt.plot(history.history['loss'])\n",
        "plt.plot(history.history['val_loss'])\n",
        "plt.title('model loss')\n",
        "plt.ylabel('loss')\n",
        "plt.xlabel('epoch')\n",
        "plt.legend(['Train', 'Validation'], loc='upper left')\n",
        "plt.show()"
      ],
      "metadata": {
        "colab": {
          "base_uri": "https://localhost:8080/",
          "height": 573
        },
        "id": "D1Y5BfAkt1PK",
        "outputId": "0e502b66-d500-4252-a4df-9a4ddff1b3c0"
      },
      "execution_count": 141,
      "outputs": [
        {
          "output_type": "display_data",
          "data": {
            "text/plain": [
              "<Figure size 432x288 with 1 Axes>"
            ],
            "image/png": "[encoded data removed]"
          },
          "metadata": {
            "needs_background": "light"
          }
        },
        {
          "output_type": "display_data",
          "data": {
            "text/plain": [
              "<Figure size 432x288 with 1 Axes>"
            ],
            "image/png": "[encoded data removed]"
          },
          "metadata": {
            "needs_background": "light"
          }
        }
      ]
    },
    {
      "cell_type": "code",
      "source": [],
      "metadata": {
        "id": "QMbk4oEOCdsw"
      },
      "execution_count": 141,
      "outputs": []
    }
  ]
}